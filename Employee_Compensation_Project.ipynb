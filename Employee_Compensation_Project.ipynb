{
  "nbformat": 4,
  "nbformat_minor": 0,
  "metadata": {
    "colab": {
      "provenance": [],
      "collapsed_sections": [],
      "mount_file_id": "1J_iyq0r6NipxRjebkwS7xl_cRcJUTBsn",
      "authorship_tag": "ABX9TyO3eSp1XcB7CtrU+dfR4kna",
      "include_colab_link": true
    },
    "kernelspec": {
      "name": "python3",
      "display_name": "Python 3"
    },
    "language_info": {
      "name": "python"
    },
    "gpuClass": "standard"
  },
  "cells": [
    {
      "cell_type": "markdown",
      "metadata": {
        "id": "view-in-github",
        "colab_type": "text"
      },
      "source": [
        "<a href=\"https://colab.research.google.com/github/prakruti-sid/Compensation-Data-Prediction-with-ML/blob/main/Employee_Compensation_Project.ipynb\" target=\"_parent\"><img src=\"https://colab.research.google.com/assets/colab-badge.svg\" alt=\"Open In Colab\"/></a>"
      ]
    },
    {
      "cell_type": "markdown",
      "source": [
        "## Predicting Compensation - Project 2 💰\n",
        "\n",
        "\n",
        "---\n",
        "\n",
        "\n",
        ">Prakruthi Sidram\n",
        "\n",
        "> Stack 2-3\n"
      ],
      "metadata": {
        "id": "2917kdCeF36w"
      }
    },
    {
      "cell_type": "markdown",
      "source": [
        "### The Problem Statement 📜\n",
        "\n",
        "Using the Radford Survey Aggregate `Employee Compensation Data` our goal is to help a HR personnel come up with a compensation figure for a new hire or a promoted employee.\n",
        "\n",
        "Predict a good estimate of the Annual Pay based on \n",
        "\n",
        "- Location\n",
        "- Job Title\n",
        "- Experience\n",
        "- Performance (percentage)\n",
        "- Company Size\n",
        "- Employee Count ( Small , Mid-Size or Large Company)\n",
        "\n",
        "Target : `Total Pay - Average`\n",
        "\n",
        "Modeling Category : Regression Modelling"
      ],
      "metadata": {
        "id": "QIxrpcIyfYkJ"
      }
    },
    {
      "cell_type": "markdown",
      "source": [
        "Data from 10/15/2015"
      ],
      "metadata": {
        "id": "AgoBNldRm1QR"
      }
    },
    {
      "cell_type": "markdown",
      "source": [
        "### Job Field Definations\n",
        "\n",
        "\n"
      ],
      "metadata": {
        "id": "bDGyq1mngIpC"
      }
    },
    {
      "cell_type": "markdown",
      "source": [
        "#### Job Category Definations\n",
        "Code | Job Category |\n",
        "-----| ------------- |\n",
        "E | Executive\n",
        "P | Professional\n",
        "S | Support\n",
        "M | Management\n",
        "\n"
      ],
      "metadata": {
        "id": "gdZTYMjlDqXa"
      }
    },
    {
      "cell_type": "markdown",
      "source": [
        "\n",
        "####  Job Function Definations\n",
        "\n",
        "Job Fn Abbrviation | Job Function | Description |\n",
        "-----------------|-----------------|-------------|\n",
        "AE | Aeronautical Engineering | \n",
        "FA | Finance Accounting & Legal |\n",
        "GM | General Management |\n",
        "HR | Human Resources |\n",
        "IT | Information Technology | Technology covers activities requiring an engineering, life sciences, or computer science background that is applied to problem solution,using information systems, data management, or communications vehicles/platforms.\n",
        "LS | Life Sciences |Life Sciences covers activities related to scientific research and development of products, such as pharmaceuticals, biologics, therapeutics, diagnostics, medical devices, animal health, etc.\n",
        "MF | MAnufacturing | Core roles would include engineering, production, supply chain, skill trades\n",
        "MK | Marketing\n",
        "OP | Operations, Production & Supply Chain\n",
        "PD | Product Design\n",
        "PS | Professional Services , Outsourcing & Consulting\n",
        "SS | Service & Support"
      ],
      "metadata": {
        "id": "HU2_xlttDlT2"
      }
    },
    {
      "cell_type": "markdown",
      "source": [
        "#### New Job Function Categories \n",
        "Reference : [Radford Global Compensation Database Guide](https://radfordnetwork.aon.com/getmedia/8AC96BCF-9BAB-405C-B656-01F14EE2AE5C/Radford_Global_Compensation_Database_Input-Output-Guide)\n",
        "\n",
        "\n",
        "Code | Job Function | Defination \n",
        "-----| -------------| ----------|\n",
        "EXM | `Executive & Senior Management` |  `Firm-wide, function, area, or focus area leadership. `\n",
        "INF | `Infrastructure` | Activities related to enabling functions that drive business results. Core roles include\n",
        " | |  `communications`, `compliance`, `corporate` and `business administration`, `finance`, `human resources` , `legal`,\n",
        "  | |  `marketing`, `operations`, `risk management`, `technology`, and `treasury`.\n",
        "SLS | `Sales` | Sales covers activities related to `new business and revenue generation`, \n",
        "| | `supporting customers in finding products, solutions, and services` that best meet their needs. \n",
        "TEC | `Technology` | Technology covers activities requiring an \n",
        "| | `engineering`, `life sciences`, or `computer science` background that is applied to problem solution, insight discovery, innovation, or product and/or service delivery using \n",
        "| |  `information systems`, `data management`, or `communications vehicles`/`platforms`.\n",
        "LSC | `Life Sciences `| Life Sciences covers activities related to `scientific research and development of products`, \n",
        "| | such as `pharmaceuticals`, `biologics`, `therapeutics`, `diagnostics`, `medical devices`, `animal health`, etc.\n",
        "RTL | `Retail & E - Comm` | Retail & e-Commerce covers activities related to `the sale of goods and services either in traditional stores`,\n",
        "| | or `via electronic channels` including `internet sites`, `mobile applications` or `social media platforms`. \n",
        "| | May included `direct to consumer` or `business to business` transactions.\n",
        "MNG | `Media & Gaming `|Media and Gaming covers activities related to the \n",
        "| | `acquisition`, `development`, `production`, `publication`, and `distribution of film`, `television`, `animation`,\n",
        "| |  `radio`, `podcast`, `web-based video`, `streaming`, `broadcast`, `print media`, `electronic games`, and other forms of media.\n",
        "MFG | `Manufacturing` | Manufacturing covers activities related to the `conversion of raw materials into goods including both consumer and industrial`.\n",
        "| |  Core roles would include `engineering`, `production`, `supply chain`, `skill trades`.\n",
        "ENE | `Energy` | Energy covers activities related to `the fossil fuels and renewable energy sectors, as well as in mining`. \n",
        "| | `Fossil fuels (coal, oil, & gas)` and `renewables (solar, wind, hydro, geothermal, and nuclear)` \n",
        "| | are `used to generate power for residential, commercial, industrial, and transportation` customers.\n"
      ],
      "metadata": {
        "id": "bv0by1zLnbZT"
      }
    },
    {
      "cell_type": "markdown",
      "source": [
        "## Loading the Data 📥"
      ],
      "metadata": {
        "id": "HBcTOSI2hGf2"
      }
    },
    {
      "cell_type": "code",
      "source": [
        "# Libraries \n",
        "\n",
        "import pandas as pd\n",
        "import numpy as np\n",
        "\n",
        "#import plotting + diagram tools\n",
        "import seaborn as sns\n",
        "import matplotlib.pyplot as plt\n",
        "from sklearn import set_config\n",
        "set_config(display= 'diagram')\n",
        "\n",
        "#import some necessary tools\n",
        "from sklearn.pipeline import make_pipeline, Pipeline\n",
        "from sklearn.compose import make_column_selector, make_column_transformer\n",
        "\n",
        "from sklearn.model_selection import train_test_split, GridSearchCV, \\\n",
        "cross_val_score,cross_val_predict\n",
        "from sklearn.preprocessing import MinMaxScaler, OneHotEncoder, OrdinalEncoder, \\\n",
        "StandardScaler\n",
        "from sklearn.impute import SimpleImputer\n",
        "#import evaluation metrics: accuracy, precision, recall, classification report, and confusion matrix scoring functions\n",
        "from sklearn.metrics import accuracy_score, precision_score, recall_score, \\\n",
        "f1_score, classification_report,confusion_matrix,plot_confusion_matrix, \\\n",
        "roc_auc_score, ConfusionMatrixDisplay,PrecisionRecallDisplay, RocCurveDisplay\n",
        "from sklearn import metrics\n",
        "\n",
        "\n",
        "#Importing the Classifiers\n",
        "from sklearn.tree import DecisionTreeClassifier\n",
        "from sklearn.linear_model import LogisticRegression\n",
        "from sklearn.ensemble import RandomForestClassifier\n",
        "from sklearn.neighbors import KNeighborsClassifier\n",
        "\n",
        "# Supress warnings\n",
        "import warnings\n",
        "warnings.simplefilter(action='ignore', category=FutureWarning)\n",
        "warnings.simplefilter(action='ignore', category=UserWarning)\n",
        "warnings.filterwarnings(action='once')"
      ],
      "metadata": {
        "id": "LaSCQxvPFbTO"
      },
      "execution_count": 72,
      "outputs": []
    },
    {
      "cell_type": "code",
      "source": [
        "# Employee Compensation Data for US\n",
        "\n",
        "path = 'https://docs.google.com/spreadsheets/d/e/2PACX-1vT5weLuL4_CWKcEuu_hpLH0YYtIfgP1GBZx7M3gb_vNpq4DsPm9jZXXD4Bfa5mAew/pub?output=xlsx'"
      ],
      "metadata": {
        "id": "wnI5RgJcHjcr"
      },
      "execution_count": 73,
      "outputs": []
    },
    {
      "cell_type": "code",
      "source": [
        "# create dataframe\n",
        "df_original = pd.read_excel(path)\n",
        "df_original.head()"
      ],
      "metadata": {
        "colab": {
          "base_uri": "https://localhost:8080/",
          "height": 629
        },
        "id": "Fy_nKiVBGc6i",
        "outputId": "c4f3c492-d053-4e8d-e82c-bac830ece47f"
      },
      "execution_count": 74,
      "outputs": [
        {
          "output_type": "execute_result",
          "data": {
            "text/plain": [
              "  Data Effective Date Job Category  Job Level Job Function Job Code  \\\n",
              "0          10/15/2015            E        0.0           GM     10.0   \n",
              "1          10/15/2015            E        0.0           GM     20.0   \n",
              "2          10/15/2015            E        0.0           GM     30.0   \n",
              "3          10/15/2015            E        0.0           GM     50.0   \n",
              "4          10/15/2015            E        0.0           GM     80.0   \n",
              "\n",
              "                                      Job Title  \\\n",
              "0                      CEO - Corporate - Global   \n",
              "1                President - Corporate - Global   \n",
              "2  Chief Operating Officer - Corporate - Global   \n",
              "3       Chair of the Board - Corporate - Global   \n",
              "4                       CEO - Global Subsidiary   \n",
              "\n",
              "   Company/Unit Revenue (USD) : Average  \\\n",
              "0                          3.256616e+09   \n",
              "1                          3.891179e+09   \n",
              "2                          1.998261e+09   \n",
              "3                          5.718923e+09   \n",
              "4                          9.602987e+08   \n",
              "\n",
              "   Company/Unit Revenue (USD) : 50th Percentile  \\\n",
              "0                                  2.961680e+08   \n",
              "1                                  2.754245e+08   \n",
              "2                                  3.759340e+08   \n",
              "3                                  1.398352e+09   \n",
              "4                                  4.294200e+08   \n",
              "\n",
              "   Company/Unit Revenue (USD) : Co Count  Annual Base Salary - Average  ...  \\\n",
              "0                                  728.0                      586446.0  ...   \n",
              "1                                  102.0                      460980.0  ...   \n",
              "2                                  156.0                      404056.0  ...   \n",
              "3                                   25.0                      585290.0  ...   \n",
              "4                                   30.0                      562132.0  ...   \n",
              "\n",
              "   Unnamed: 64  Unnamed: 65  Unnamed: 66  Unnamed: 67  Unnamed: 68  \\\n",
              "0          NaN          NaN          NaN          NaN          NaN   \n",
              "1          NaN          NaN          NaN          NaN          NaN   \n",
              "2          NaN          NaN          NaN          NaN          NaN   \n",
              "3          NaN          NaN          NaN          NaN          NaN   \n",
              "4          NaN          NaN          NaN          NaN          NaN   \n",
              "\n",
              "   Unnamed: 69  Unnamed: 70  Unnamed: 71  Unnamed: 72  Unnamed: 73  \n",
              "0          NaN          NaN          NaN          NaN          NaN  \n",
              "1          NaN          NaN          NaN          NaN          NaN  \n",
              "2          NaN          NaN          NaN          NaN          NaN  \n",
              "3          NaN          NaN          NaN          NaN          NaN  \n",
              "4          NaN          NaN          NaN          NaN          NaN  \n",
              "\n",
              "[5 rows x 74 columns]"
            ],
            "text/html": [
              "\n",
              "  <div id=\"df-9ec3a452-9db7-476d-9ccb-3c840d2f4b81\">\n",
              "    <div class=\"colab-df-container\">\n",
              "      <div>\n",
              "<style scoped>\n",
              "    .dataframe tbody tr th:only-of-type {\n",
              "        vertical-align: middle;\n",
              "    }\n",
              "\n",
              "    .dataframe tbody tr th {\n",
              "        vertical-align: top;\n",
              "    }\n",
              "\n",
              "    .dataframe thead th {\n",
              "        text-align: right;\n",
              "    }\n",
              "</style>\n",
              "<table border=\"1\" class=\"dataframe\">\n",
              "  <thead>\n",
              "    <tr style=\"text-align: right;\">\n",
              "      <th></th>\n",
              "      <th>Data Effective Date</th>\n",
              "      <th>Job Category</th>\n",
              "      <th>Job Level</th>\n",
              "      <th>Job Function</th>\n",
              "      <th>Job Code</th>\n",
              "      <th>Job Title</th>\n",
              "      <th>Company/Unit Revenue (USD) : Average</th>\n",
              "      <th>Company/Unit Revenue (USD) : 50th Percentile</th>\n",
              "      <th>Company/Unit Revenue (USD) : Co Count</th>\n",
              "      <th>Annual Base Salary - Average</th>\n",
              "      <th>...</th>\n",
              "      <th>Unnamed: 64</th>\n",
              "      <th>Unnamed: 65</th>\n",
              "      <th>Unnamed: 66</th>\n",
              "      <th>Unnamed: 67</th>\n",
              "      <th>Unnamed: 68</th>\n",
              "      <th>Unnamed: 69</th>\n",
              "      <th>Unnamed: 70</th>\n",
              "      <th>Unnamed: 71</th>\n",
              "      <th>Unnamed: 72</th>\n",
              "      <th>Unnamed: 73</th>\n",
              "    </tr>\n",
              "  </thead>\n",
              "  <tbody>\n",
              "    <tr>\n",
              "      <th>0</th>\n",
              "      <td>10/15/2015</td>\n",
              "      <td>E</td>\n",
              "      <td>0.0</td>\n",
              "      <td>GM</td>\n",
              "      <td>10.0</td>\n",
              "      <td>CEO - Corporate - Global</td>\n",
              "      <td>3.256616e+09</td>\n",
              "      <td>2.961680e+08</td>\n",
              "      <td>728.0</td>\n",
              "      <td>586446.0</td>\n",
              "      <td>...</td>\n",
              "      <td>NaN</td>\n",
              "      <td>NaN</td>\n",
              "      <td>NaN</td>\n",
              "      <td>NaN</td>\n",
              "      <td>NaN</td>\n",
              "      <td>NaN</td>\n",
              "      <td>NaN</td>\n",
              "      <td>NaN</td>\n",
              "      <td>NaN</td>\n",
              "      <td>NaN</td>\n",
              "    </tr>\n",
              "    <tr>\n",
              "      <th>1</th>\n",
              "      <td>10/15/2015</td>\n",
              "      <td>E</td>\n",
              "      <td>0.0</td>\n",
              "      <td>GM</td>\n",
              "      <td>20.0</td>\n",
              "      <td>President - Corporate - Global</td>\n",
              "      <td>3.891179e+09</td>\n",
              "      <td>2.754245e+08</td>\n",
              "      <td>102.0</td>\n",
              "      <td>460980.0</td>\n",
              "      <td>...</td>\n",
              "      <td>NaN</td>\n",
              "      <td>NaN</td>\n",
              "      <td>NaN</td>\n",
              "      <td>NaN</td>\n",
              "      <td>NaN</td>\n",
              "      <td>NaN</td>\n",
              "      <td>NaN</td>\n",
              "      <td>NaN</td>\n",
              "      <td>NaN</td>\n",
              "      <td>NaN</td>\n",
              "    </tr>\n",
              "    <tr>\n",
              "      <th>2</th>\n",
              "      <td>10/15/2015</td>\n",
              "      <td>E</td>\n",
              "      <td>0.0</td>\n",
              "      <td>GM</td>\n",
              "      <td>30.0</td>\n",
              "      <td>Chief Operating Officer - Corporate - Global</td>\n",
              "      <td>1.998261e+09</td>\n",
              "      <td>3.759340e+08</td>\n",
              "      <td>156.0</td>\n",
              "      <td>404056.0</td>\n",
              "      <td>...</td>\n",
              "      <td>NaN</td>\n",
              "      <td>NaN</td>\n",
              "      <td>NaN</td>\n",
              "      <td>NaN</td>\n",
              "      <td>NaN</td>\n",
              "      <td>NaN</td>\n",
              "      <td>NaN</td>\n",
              "      <td>NaN</td>\n",
              "      <td>NaN</td>\n",
              "      <td>NaN</td>\n",
              "    </tr>\n",
              "    <tr>\n",
              "      <th>3</th>\n",
              "      <td>10/15/2015</td>\n",
              "      <td>E</td>\n",
              "      <td>0.0</td>\n",
              "      <td>GM</td>\n",
              "      <td>50.0</td>\n",
              "      <td>Chair of the Board - Corporate - Global</td>\n",
              "      <td>5.718923e+09</td>\n",
              "      <td>1.398352e+09</td>\n",
              "      <td>25.0</td>\n",
              "      <td>585290.0</td>\n",
              "      <td>...</td>\n",
              "      <td>NaN</td>\n",
              "      <td>NaN</td>\n",
              "      <td>NaN</td>\n",
              "      <td>NaN</td>\n",
              "      <td>NaN</td>\n",
              "      <td>NaN</td>\n",
              "      <td>NaN</td>\n",
              "      <td>NaN</td>\n",
              "      <td>NaN</td>\n",
              "      <td>NaN</td>\n",
              "    </tr>\n",
              "    <tr>\n",
              "      <th>4</th>\n",
              "      <td>10/15/2015</td>\n",
              "      <td>E</td>\n",
              "      <td>0.0</td>\n",
              "      <td>GM</td>\n",
              "      <td>80.0</td>\n",
              "      <td>CEO - Global Subsidiary</td>\n",
              "      <td>9.602987e+08</td>\n",
              "      <td>4.294200e+08</td>\n",
              "      <td>30.0</td>\n",
              "      <td>562132.0</td>\n",
              "      <td>...</td>\n",
              "      <td>NaN</td>\n",
              "      <td>NaN</td>\n",
              "      <td>NaN</td>\n",
              "      <td>NaN</td>\n",
              "      <td>NaN</td>\n",
              "      <td>NaN</td>\n",
              "      <td>NaN</td>\n",
              "      <td>NaN</td>\n",
              "      <td>NaN</td>\n",
              "      <td>NaN</td>\n",
              "    </tr>\n",
              "  </tbody>\n",
              "</table>\n",
              "<p>5 rows × 74 columns</p>\n",
              "</div>\n",
              "      <button class=\"colab-df-convert\" onclick=\"convertToInteractive('df-9ec3a452-9db7-476d-9ccb-3c840d2f4b81')\"\n",
              "              title=\"Convert this dataframe to an interactive table.\"\n",
              "              style=\"display:none;\">\n",
              "        \n",
              "  <svg xmlns=\"http://www.w3.org/2000/svg\" height=\"24px\"viewBox=\"0 0 24 24\"\n",
              "       width=\"24px\">\n",
              "    <path d=\"M0 0h24v24H0V0z\" fill=\"none\"/>\n",
              "    <path d=\"M18.56 5.44l.94 2.06.94-2.06 2.06-.94-2.06-.94-.94-2.06-.94 2.06-2.06.94zm-11 1L8.5 8.5l.94-2.06 2.06-.94-2.06-.94L8.5 2.5l-.94 2.06-2.06.94zm10 10l.94 2.06.94-2.06 2.06-.94-2.06-.94-.94-2.06-.94 2.06-2.06.94z\"/><path d=\"M17.41 7.96l-1.37-1.37c-.4-.4-.92-.59-1.43-.59-.52 0-1.04.2-1.43.59L10.3 9.45l-7.72 7.72c-.78.78-.78 2.05 0 2.83L4 21.41c.39.39.9.59 1.41.59.51 0 1.02-.2 1.41-.59l7.78-7.78 2.81-2.81c.8-.78.8-2.07 0-2.86zM5.41 20L4 18.59l7.72-7.72 1.47 1.35L5.41 20z\"/>\n",
              "  </svg>\n",
              "      </button>\n",
              "      \n",
              "  <style>\n",
              "    .colab-df-container {\n",
              "      display:flex;\n",
              "      flex-wrap:wrap;\n",
              "      gap: 12px;\n",
              "    }\n",
              "\n",
              "    .colab-df-convert {\n",
              "      background-color: #E8F0FE;\n",
              "      border: none;\n",
              "      border-radius: 50%;\n",
              "      cursor: pointer;\n",
              "      display: none;\n",
              "      fill: #1967D2;\n",
              "      height: 32px;\n",
              "      padding: 0 0 0 0;\n",
              "      width: 32px;\n",
              "    }\n",
              "\n",
              "    .colab-df-convert:hover {\n",
              "      background-color: #E2EBFA;\n",
              "      box-shadow: 0px 1px 2px rgba(60, 64, 67, 0.3), 0px 1px 3px 1px rgba(60, 64, 67, 0.15);\n",
              "      fill: #174EA6;\n",
              "    }\n",
              "\n",
              "    [theme=dark] .colab-df-convert {\n",
              "      background-color: #3B4455;\n",
              "      fill: #D2E3FC;\n",
              "    }\n",
              "\n",
              "    [theme=dark] .colab-df-convert:hover {\n",
              "      background-color: #434B5C;\n",
              "      box-shadow: 0px 1px 3px 1px rgba(0, 0, 0, 0.15);\n",
              "      filter: drop-shadow(0px 1px 2px rgba(0, 0, 0, 0.3));\n",
              "      fill: #FFFFFF;\n",
              "    }\n",
              "  </style>\n",
              "\n",
              "      <script>\n",
              "        const buttonEl =\n",
              "          document.querySelector('#df-9ec3a452-9db7-476d-9ccb-3c840d2f4b81 button.colab-df-convert');\n",
              "        buttonEl.style.display =\n",
              "          google.colab.kernel.accessAllowed ? 'block' : 'none';\n",
              "\n",
              "        async function convertToInteractive(key) {\n",
              "          const element = document.querySelector('#df-9ec3a452-9db7-476d-9ccb-3c840d2f4b81');\n",
              "          const dataTable =\n",
              "            await google.colab.kernel.invokeFunction('convertToInteractive',\n",
              "                                                     [key], {});\n",
              "          if (!dataTable) return;\n",
              "\n",
              "          const docLinkHtml = 'Like what you see? Visit the ' +\n",
              "            '<a target=\"_blank\" href=https://colab.research.google.com/notebooks/data_table.ipynb>data table notebook</a>'\n",
              "            + ' to learn more about interactive tables.';\n",
              "          element.innerHTML = '';\n",
              "          dataTable['output_type'] = 'display_data';\n",
              "          await google.colab.output.renderOutput(dataTable, element);\n",
              "          const docLink = document.createElement('div');\n",
              "          docLink.innerHTML = docLinkHtml;\n",
              "          element.appendChild(docLink);\n",
              "        }\n",
              "      </script>\n",
              "    </div>\n",
              "  </div>\n",
              "  "
            ]
          },
          "metadata": {},
          "execution_count": 74
        }
      ]
    },
    {
      "cell_type": "code",
      "source": [
        "# Make a copy of the dataframe\n",
        "df= df_original.copy()"
      ],
      "metadata": {
        "id": "M1lNK1VpHBbF"
      },
      "execution_count": 75,
      "outputs": []
    },
    {
      "cell_type": "code",
      "source": [
        "# Dropping Unamed Columns\n",
        "\n",
        "df.drop(df.iloc[:, 52:74],inplace=True,axis=1)"
      ],
      "metadata": {
        "id": "ShqibYvgc7qz"
      },
      "execution_count": 76,
      "outputs": []
    },
    {
      "cell_type": "code",
      "source": [
        "df.info()"
      ],
      "metadata": {
        "colab": {
          "base_uri": "https://localhost:8080/"
        },
        "id": "EmloqI8HdZjA",
        "outputId": "d3f6bb97-d51e-4cc9-dbe3-afb663b3741b"
      },
      "execution_count": 9,
      "outputs": [
        {
          "output_type": "stream",
          "name": "stdout",
          "text": [
            "<class 'pandas.core.frame.DataFrame'>\n",
            "RangeIndex: 3429 entries, 0 to 3428\n",
            "Data columns (total 52 columns):\n",
            " #   Column                                                  Non-Null Count  Dtype  \n",
            "---  ------                                                  --------------  -----  \n",
            " 0   Data Effective Date                                     2890 non-null   object \n",
            " 1   Job Category                                            2890 non-null   object \n",
            " 2   Job Level                                               2890 non-null   float64\n",
            " 3   Job Function                                            2890 non-null   object \n",
            " 4   Job Code                                                2890 non-null   object \n",
            " 5   Job Title                                               2890 non-null   object \n",
            " 6   Company/Unit Revenue (USD) : Average                    2890 non-null   float64\n",
            " 7   Company/Unit Revenue (USD) : 50th Percentile            2890 non-null   float64\n",
            " 8   Company/Unit Revenue (USD) : Co Count                   2890 non-null   float64\n",
            " 9   Annual Base Salary - Average                            2890 non-null   float64\n",
            " 10  Annual Base Salary - Emp Count                          2890 non-null   float64\n",
            " 11  Annual Base Salary - Co Count                           2890 non-null   float64\n",
            " 12  Percent Emp Receiving Any Allow - Average               2890 non-null   float64\n",
            " 13  Percent Emp Receiving Any Allow - Emp Count             2890 non-null   float64\n",
            " 14  Percent Emp Receiving Any Allow - Co Count              2890 non-null   float64\n",
            " 15  Total Allow Amt -  Average                              2890 non-null   float64\n",
            " 16  Total Allow Amt -  50th percentile                      2890 non-null   float64\n",
            " 17  Total Allow Amt -  Emp Count                            2890 non-null   float64\n",
            " 18  Total Allow Amt -  Co Count                             2890 non-null   float64\n",
            " 19  Fixed Comp (Base+Total Allowance) - Average             2890 non-null   float64\n",
            " 20  Percent Emp Elig for Incent - Average                   2890 non-null   float64\n",
            " 21  Percent Emp Elig for Incent - Emp Count                 2890 non-null   float64\n",
            " 22  Percent Emp Elig for Incent - Co Count                  2890 non-null   float64\n",
            " 23  Target Incent - % Salary - Average                      2890 non-null   float64\n",
            " 24  Base/Target Incentive Mix : Average                     2890 non-null   object \n",
            " 25  Base/Target Incentive Mix : Emp Count                   2890 non-null   float64\n",
            " 26  Base/Target Incentive Mix : Co Count                    2890 non-null   float64\n",
            " 27  Percent Emp Recd New-Hire Bonus - Average               2890 non-null   float64\n",
            " 28  Percent Emp Recd New-Hire Bonus - Emp Count             2890 non-null   float64\n",
            " 29  Percent Emp Recd New-Hire Bonus - Co Count              2890 non-null   float64\n",
            " 30  New-Hire Bonus Amt - Average                            2890 non-null   float64\n",
            " 31  New-Hire Bonus Amt - 50th percentile                    2890 non-null   float64\n",
            " 32  New-Hire Bonus Amt - Emp Count                          2890 non-null   float64\n",
            " 33  New-Hire Bonus Amt - Co Count                           2890 non-null   float64\n",
            " 34  Base Salary + Target Incent - Average                   2890 non-null   float64\n",
            " 35  Base Salary + Target Incent - 50th percentile           2890 non-null   float64\n",
            " 36  Base Salary + Target Incent - Emp Count                 2890 non-null   float64\n",
            " 37  Base Salary + Target Incent - Co Count                  2890 non-null   float64\n",
            " 38  Total Pay - Average                                     2890 non-null   float64\n",
            " 39  Total Pay - 50th percentile                             2890 non-null   float64\n",
            " 40  Total Pay - Emp Count                                   2890 non-null   float64\n",
            " 41  Total Pay - Co Count                                    2890 non-null   float64\n",
            " 42  Total Pay - Incl Car - Emp Count                        2890 non-null   float64\n",
            " 43  Total Pay - Incl Car - Co Count                         2890 non-null   float64\n",
            " 44  New-Hire - Restricted/Performance - Average             2890 non-null   float64\n",
            " 45  New-Hire - Restricted/Performance - 50th percentile     2890 non-null   float64\n",
            " 46  New-Hire - Restricted/Performance -  Emp Count          2890 non-null   float64\n",
            " 47  New-Hire - Restricted/Performance - Co Count            2890 non-null   float64\n",
            " 48  Ongoing Restricted/Performance Grants- Average          2890 non-null   float64\n",
            " 49  Ongoing Restricted/Performance Grants- 50th Percentile  2890 non-null   float64\n",
            " 50  Ongoing Restricted/Performance Grants- Emp Count        2890 non-null   float64\n",
            " 51  Ongoing Restricted/Performance Grants- Co Count         2890 non-null   float64\n",
            "dtypes: float64(46), object(6)\n",
            "memory usage: 1.4+ MB\n"
          ]
        }
      ]
    },
    {
      "cell_type": "markdown",
      "source": [
        "## Preprocessing Data 🗒"
      ],
      "metadata": {
        "id": "g1gpWUJYhMb1"
      }
    },
    {
      "cell_type": "markdown",
      "source": [
        "#### Duplicates & Missing Values 🍎 🍎 🔎"
      ],
      "metadata": {
        "id": "S6YPmn9qhjVJ"
      }
    },
    {
      "cell_type": "code",
      "source": [
        "duplicates = df[df.duplicated()]\n",
        "duplicates"
      ],
      "metadata": {
        "id": "-nD08AEffP1V",
        "colab": {
          "base_uri": "https://localhost:8080/",
          "height": 574
        },
        "outputId": "38f7d889-6168-40bf-ee07-d7b1700c0d3a"
      },
      "execution_count": 77,
      "outputs": [
        {
          "output_type": "execute_result",
          "data": {
            "text/plain": [
              "     Data Effective Date Job Category  Job Level Job Function Job Code  \\\n",
              "2891                 NaN          NaN        NaN          NaN      NaN   \n",
              "2892                 NaN          NaN        NaN          NaN      NaN   \n",
              "2893                 NaN          NaN        NaN          NaN      NaN   \n",
              "2894                 NaN          NaN        NaN          NaN      NaN   \n",
              "2895                 NaN          NaN        NaN          NaN      NaN   \n",
              "...                  ...          ...        ...          ...      ...   \n",
              "3424                 NaN          NaN        NaN          NaN      NaN   \n",
              "3425                 NaN          NaN        NaN          NaN      NaN   \n",
              "3426                 NaN          NaN        NaN          NaN      NaN   \n",
              "3427                 NaN          NaN        NaN          NaN      NaN   \n",
              "3428                 NaN          NaN        NaN          NaN      NaN   \n",
              "\n",
              "     Job Title  Company/Unit Revenue (USD) : Average  \\\n",
              "2891       NaN                                   NaN   \n",
              "2892       NaN                                   NaN   \n",
              "2893       NaN                                   NaN   \n",
              "2894       NaN                                   NaN   \n",
              "2895       NaN                                   NaN   \n",
              "...        ...                                   ...   \n",
              "3424       NaN                                   NaN   \n",
              "3425       NaN                                   NaN   \n",
              "3426       NaN                                   NaN   \n",
              "3427       NaN                                   NaN   \n",
              "3428       NaN                                   NaN   \n",
              "\n",
              "      Company/Unit Revenue (USD) : 50th Percentile  \\\n",
              "2891                                           NaN   \n",
              "2892                                           NaN   \n",
              "2893                                           NaN   \n",
              "2894                                           NaN   \n",
              "2895                                           NaN   \n",
              "...                                            ...   \n",
              "3424                                           NaN   \n",
              "3425                                           NaN   \n",
              "3426                                           NaN   \n",
              "3427                                           NaN   \n",
              "3428                                           NaN   \n",
              "\n",
              "      Company/Unit Revenue (USD) : Co Count  Annual Base Salary - Average  \\\n",
              "2891                                    NaN                           NaN   \n",
              "2892                                    NaN                           NaN   \n",
              "2893                                    NaN                           NaN   \n",
              "2894                                    NaN                           NaN   \n",
              "2895                                    NaN                           NaN   \n",
              "...                                     ...                           ...   \n",
              "3424                                    NaN                           NaN   \n",
              "3425                                    NaN                           NaN   \n",
              "3426                                    NaN                           NaN   \n",
              "3427                                    NaN                           NaN   \n",
              "3428                                    NaN                           NaN   \n",
              "\n",
              "      ...  Total Pay - Incl Car - Emp Count  Total Pay - Incl Car - Co Count  \\\n",
              "2891  ...                               NaN                              NaN   \n",
              "2892  ...                               NaN                              NaN   \n",
              "2893  ...                               NaN                              NaN   \n",
              "2894  ...                               NaN                              NaN   \n",
              "2895  ...                               NaN                              NaN   \n",
              "...   ...                               ...                              ...   \n",
              "3424  ...                               NaN                              NaN   \n",
              "3425  ...                               NaN                              NaN   \n",
              "3426  ...                               NaN                              NaN   \n",
              "3427  ...                               NaN                              NaN   \n",
              "3428  ...                               NaN                              NaN   \n",
              "\n",
              "      New-Hire - Restricted/Performance - Average  \\\n",
              "2891                                          NaN   \n",
              "2892                                          NaN   \n",
              "2893                                          NaN   \n",
              "2894                                          NaN   \n",
              "2895                                          NaN   \n",
              "...                                           ...   \n",
              "3424                                          NaN   \n",
              "3425                                          NaN   \n",
              "3426                                          NaN   \n",
              "3427                                          NaN   \n",
              "3428                                          NaN   \n",
              "\n",
              "      New-Hire - Restricted/Performance - 50th percentile  \\\n",
              "2891                                                NaN     \n",
              "2892                                                NaN     \n",
              "2893                                                NaN     \n",
              "2894                                                NaN     \n",
              "2895                                                NaN     \n",
              "...                                                 ...     \n",
              "3424                                                NaN     \n",
              "3425                                                NaN     \n",
              "3426                                                NaN     \n",
              "3427                                                NaN     \n",
              "3428                                                NaN     \n",
              "\n",
              "      New-Hire - Restricted/Performance -  Emp Count  \\\n",
              "2891                                             NaN   \n",
              "2892                                             NaN   \n",
              "2893                                             NaN   \n",
              "2894                                             NaN   \n",
              "2895                                             NaN   \n",
              "...                                              ...   \n",
              "3424                                             NaN   \n",
              "3425                                             NaN   \n",
              "3426                                             NaN   \n",
              "3427                                             NaN   \n",
              "3428                                             NaN   \n",
              "\n",
              "      New-Hire - Restricted/Performance - Co Count  \\\n",
              "2891                                           NaN   \n",
              "2892                                           NaN   \n",
              "2893                                           NaN   \n",
              "2894                                           NaN   \n",
              "2895                                           NaN   \n",
              "...                                            ...   \n",
              "3424                                           NaN   \n",
              "3425                                           NaN   \n",
              "3426                                           NaN   \n",
              "3427                                           NaN   \n",
              "3428                                           NaN   \n",
              "\n",
              "      Ongoing Restricted/Performance Grants- Average  \\\n",
              "2891                                             NaN   \n",
              "2892                                             NaN   \n",
              "2893                                             NaN   \n",
              "2894                                             NaN   \n",
              "2895                                             NaN   \n",
              "...                                              ...   \n",
              "3424                                             NaN   \n",
              "3425                                             NaN   \n",
              "3426                                             NaN   \n",
              "3427                                             NaN   \n",
              "3428                                             NaN   \n",
              "\n",
              "      Ongoing Restricted/Performance Grants- 50th Percentile  \\\n",
              "2891                                                NaN        \n",
              "2892                                                NaN        \n",
              "2893                                                NaN        \n",
              "2894                                                NaN        \n",
              "2895                                                NaN        \n",
              "...                                                 ...        \n",
              "3424                                                NaN        \n",
              "3425                                                NaN        \n",
              "3426                                                NaN        \n",
              "3427                                                NaN        \n",
              "3428                                                NaN        \n",
              "\n",
              "      Ongoing Restricted/Performance Grants- Emp Count  \\\n",
              "2891                                               NaN   \n",
              "2892                                               NaN   \n",
              "2893                                               NaN   \n",
              "2894                                               NaN   \n",
              "2895                                               NaN   \n",
              "...                                                ...   \n",
              "3424                                               NaN   \n",
              "3425                                               NaN   \n",
              "3426                                               NaN   \n",
              "3427                                               NaN   \n",
              "3428                                               NaN   \n",
              "\n",
              "      Ongoing Restricted/Performance Grants- Co Count  \n",
              "2891                                              NaN  \n",
              "2892                                              NaN  \n",
              "2893                                              NaN  \n",
              "2894                                              NaN  \n",
              "2895                                              NaN  \n",
              "...                                               ...  \n",
              "3424                                              NaN  \n",
              "3425                                              NaN  \n",
              "3426                                              NaN  \n",
              "3427                                              NaN  \n",
              "3428                                              NaN  \n",
              "\n",
              "[538 rows x 52 columns]"
            ],
            "text/html": [
              "\n",
              "  <div id=\"df-8a94345a-7b3c-4fc8-8995-bd055704e7ea\">\n",
              "    <div class=\"colab-df-container\">\n",
              "      <div>\n",
              "<style scoped>\n",
              "    .dataframe tbody tr th:only-of-type {\n",
              "        vertical-align: middle;\n",
              "    }\n",
              "\n",
              "    .dataframe tbody tr th {\n",
              "        vertical-align: top;\n",
              "    }\n",
              "\n",
              "    .dataframe thead th {\n",
              "        text-align: right;\n",
              "    }\n",
              "</style>\n",
              "<table border=\"1\" class=\"dataframe\">\n",
              "  <thead>\n",
              "    <tr style=\"text-align: right;\">\n",
              "      <th></th>\n",
              "      <th>Data Effective Date</th>\n",
              "      <th>Job Category</th>\n",
              "      <th>Job Level</th>\n",
              "      <th>Job Function</th>\n",
              "      <th>Job Code</th>\n",
              "      <th>Job Title</th>\n",
              "      <th>Company/Unit Revenue (USD) : Average</th>\n",
              "      <th>Company/Unit Revenue (USD) : 50th Percentile</th>\n",
              "      <th>Company/Unit Revenue (USD) : Co Count</th>\n",
              "      <th>Annual Base Salary - Average</th>\n",
              "      <th>...</th>\n",
              "      <th>Total Pay - Incl Car - Emp Count</th>\n",
              "      <th>Total Pay - Incl Car - Co Count</th>\n",
              "      <th>New-Hire - Restricted/Performance - Average</th>\n",
              "      <th>New-Hire - Restricted/Performance - 50th percentile</th>\n",
              "      <th>New-Hire - Restricted/Performance -  Emp Count</th>\n",
              "      <th>New-Hire - Restricted/Performance - Co Count</th>\n",
              "      <th>Ongoing Restricted/Performance Grants- Average</th>\n",
              "      <th>Ongoing Restricted/Performance Grants- 50th Percentile</th>\n",
              "      <th>Ongoing Restricted/Performance Grants- Emp Count</th>\n",
              "      <th>Ongoing Restricted/Performance Grants- Co Count</th>\n",
              "    </tr>\n",
              "  </thead>\n",
              "  <tbody>\n",
              "    <tr>\n",
              "      <th>2891</th>\n",
              "      <td>NaN</td>\n",
              "      <td>NaN</td>\n",
              "      <td>NaN</td>\n",
              "      <td>NaN</td>\n",
              "      <td>NaN</td>\n",
              "      <td>NaN</td>\n",
              "      <td>NaN</td>\n",
              "      <td>NaN</td>\n",
              "      <td>NaN</td>\n",
              "      <td>NaN</td>\n",
              "      <td>...</td>\n",
              "      <td>NaN</td>\n",
              "      <td>NaN</td>\n",
              "      <td>NaN</td>\n",
              "      <td>NaN</td>\n",
              "      <td>NaN</td>\n",
              "      <td>NaN</td>\n",
              "      <td>NaN</td>\n",
              "      <td>NaN</td>\n",
              "      <td>NaN</td>\n",
              "      <td>NaN</td>\n",
              "    </tr>\n",
              "    <tr>\n",
              "      <th>2892</th>\n",
              "      <td>NaN</td>\n",
              "      <td>NaN</td>\n",
              "      <td>NaN</td>\n",
              "      <td>NaN</td>\n",
              "      <td>NaN</td>\n",
              "      <td>NaN</td>\n",
              "      <td>NaN</td>\n",
              "      <td>NaN</td>\n",
              "      <td>NaN</td>\n",
              "      <td>NaN</td>\n",
              "      <td>...</td>\n",
              "      <td>NaN</td>\n",
              "      <td>NaN</td>\n",
              "      <td>NaN</td>\n",
              "      <td>NaN</td>\n",
              "      <td>NaN</td>\n",
              "      <td>NaN</td>\n",
              "      <td>NaN</td>\n",
              "      <td>NaN</td>\n",
              "      <td>NaN</td>\n",
              "      <td>NaN</td>\n",
              "    </tr>\n",
              "    <tr>\n",
              "      <th>2893</th>\n",
              "      <td>NaN</td>\n",
              "      <td>NaN</td>\n",
              "      <td>NaN</td>\n",
              "      <td>NaN</td>\n",
              "      <td>NaN</td>\n",
              "      <td>NaN</td>\n",
              "      <td>NaN</td>\n",
              "      <td>NaN</td>\n",
              "      <td>NaN</td>\n",
              "      <td>NaN</td>\n",
              "      <td>...</td>\n",
              "      <td>NaN</td>\n",
              "      <td>NaN</td>\n",
              "      <td>NaN</td>\n",
              "      <td>NaN</td>\n",
              "      <td>NaN</td>\n",
              "      <td>NaN</td>\n",
              "      <td>NaN</td>\n",
              "      <td>NaN</td>\n",
              "      <td>NaN</td>\n",
              "      <td>NaN</td>\n",
              "    </tr>\n",
              "    <tr>\n",
              "      <th>2894</th>\n",
              "      <td>NaN</td>\n",
              "      <td>NaN</td>\n",
              "      <td>NaN</td>\n",
              "      <td>NaN</td>\n",
              "      <td>NaN</td>\n",
              "      <td>NaN</td>\n",
              "      <td>NaN</td>\n",
              "      <td>NaN</td>\n",
              "      <td>NaN</td>\n",
              "      <td>NaN</td>\n",
              "      <td>...</td>\n",
              "      <td>NaN</td>\n",
              "      <td>NaN</td>\n",
              "      <td>NaN</td>\n",
              "      <td>NaN</td>\n",
              "      <td>NaN</td>\n",
              "      <td>NaN</td>\n",
              "      <td>NaN</td>\n",
              "      <td>NaN</td>\n",
              "      <td>NaN</td>\n",
              "      <td>NaN</td>\n",
              "    </tr>\n",
              "    <tr>\n",
              "      <th>2895</th>\n",
              "      <td>NaN</td>\n",
              "      <td>NaN</td>\n",
              "      <td>NaN</td>\n",
              "      <td>NaN</td>\n",
              "      <td>NaN</td>\n",
              "      <td>NaN</td>\n",
              "      <td>NaN</td>\n",
              "      <td>NaN</td>\n",
              "      <td>NaN</td>\n",
              "      <td>NaN</td>\n",
              "      <td>...</td>\n",
              "      <td>NaN</td>\n",
              "      <td>NaN</td>\n",
              "      <td>NaN</td>\n",
              "      <td>NaN</td>\n",
              "      <td>NaN</td>\n",
              "      <td>NaN</td>\n",
              "      <td>NaN</td>\n",
              "      <td>NaN</td>\n",
              "      <td>NaN</td>\n",
              "      <td>NaN</td>\n",
              "    </tr>\n",
              "    <tr>\n",
              "      <th>...</th>\n",
              "      <td>...</td>\n",
              "      <td>...</td>\n",
              "      <td>...</td>\n",
              "      <td>...</td>\n",
              "      <td>...</td>\n",
              "      <td>...</td>\n",
              "      <td>...</td>\n",
              "      <td>...</td>\n",
              "      <td>...</td>\n",
              "      <td>...</td>\n",
              "      <td>...</td>\n",
              "      <td>...</td>\n",
              "      <td>...</td>\n",
              "      <td>...</td>\n",
              "      <td>...</td>\n",
              "      <td>...</td>\n",
              "      <td>...</td>\n",
              "      <td>...</td>\n",
              "      <td>...</td>\n",
              "      <td>...</td>\n",
              "      <td>...</td>\n",
              "    </tr>\n",
              "    <tr>\n",
              "      <th>3424</th>\n",
              "      <td>NaN</td>\n",
              "      <td>NaN</td>\n",
              "      <td>NaN</td>\n",
              "      <td>NaN</td>\n",
              "      <td>NaN</td>\n",
              "      <td>NaN</td>\n",
              "      <td>NaN</td>\n",
              "      <td>NaN</td>\n",
              "      <td>NaN</td>\n",
              "      <td>NaN</td>\n",
              "      <td>...</td>\n",
              "      <td>NaN</td>\n",
              "      <td>NaN</td>\n",
              "      <td>NaN</td>\n",
              "      <td>NaN</td>\n",
              "      <td>NaN</td>\n",
              "      <td>NaN</td>\n",
              "      <td>NaN</td>\n",
              "      <td>NaN</td>\n",
              "      <td>NaN</td>\n",
              "      <td>NaN</td>\n",
              "    </tr>\n",
              "    <tr>\n",
              "      <th>3425</th>\n",
              "      <td>NaN</td>\n",
              "      <td>NaN</td>\n",
              "      <td>NaN</td>\n",
              "      <td>NaN</td>\n",
              "      <td>NaN</td>\n",
              "      <td>NaN</td>\n",
              "      <td>NaN</td>\n",
              "      <td>NaN</td>\n",
              "      <td>NaN</td>\n",
              "      <td>NaN</td>\n",
              "      <td>...</td>\n",
              "      <td>NaN</td>\n",
              "      <td>NaN</td>\n",
              "      <td>NaN</td>\n",
              "      <td>NaN</td>\n",
              "      <td>NaN</td>\n",
              "      <td>NaN</td>\n",
              "      <td>NaN</td>\n",
              "      <td>NaN</td>\n",
              "      <td>NaN</td>\n",
              "      <td>NaN</td>\n",
              "    </tr>\n",
              "    <tr>\n",
              "      <th>3426</th>\n",
              "      <td>NaN</td>\n",
              "      <td>NaN</td>\n",
              "      <td>NaN</td>\n",
              "      <td>NaN</td>\n",
              "      <td>NaN</td>\n",
              "      <td>NaN</td>\n",
              "      <td>NaN</td>\n",
              "      <td>NaN</td>\n",
              "      <td>NaN</td>\n",
              "      <td>NaN</td>\n",
              "      <td>...</td>\n",
              "      <td>NaN</td>\n",
              "      <td>NaN</td>\n",
              "      <td>NaN</td>\n",
              "      <td>NaN</td>\n",
              "      <td>NaN</td>\n",
              "      <td>NaN</td>\n",
              "      <td>NaN</td>\n",
              "      <td>NaN</td>\n",
              "      <td>NaN</td>\n",
              "      <td>NaN</td>\n",
              "    </tr>\n",
              "    <tr>\n",
              "      <th>3427</th>\n",
              "      <td>NaN</td>\n",
              "      <td>NaN</td>\n",
              "      <td>NaN</td>\n",
              "      <td>NaN</td>\n",
              "      <td>NaN</td>\n",
              "      <td>NaN</td>\n",
              "      <td>NaN</td>\n",
              "      <td>NaN</td>\n",
              "      <td>NaN</td>\n",
              "      <td>NaN</td>\n",
              "      <td>...</td>\n",
              "      <td>NaN</td>\n",
              "      <td>NaN</td>\n",
              "      <td>NaN</td>\n",
              "      <td>NaN</td>\n",
              "      <td>NaN</td>\n",
              "      <td>NaN</td>\n",
              "      <td>NaN</td>\n",
              "      <td>NaN</td>\n",
              "      <td>NaN</td>\n",
              "      <td>NaN</td>\n",
              "    </tr>\n",
              "    <tr>\n",
              "      <th>3428</th>\n",
              "      <td>NaN</td>\n",
              "      <td>NaN</td>\n",
              "      <td>NaN</td>\n",
              "      <td>NaN</td>\n",
              "      <td>NaN</td>\n",
              "      <td>NaN</td>\n",
              "      <td>NaN</td>\n",
              "      <td>NaN</td>\n",
              "      <td>NaN</td>\n",
              "      <td>NaN</td>\n",
              "      <td>...</td>\n",
              "      <td>NaN</td>\n",
              "      <td>NaN</td>\n",
              "      <td>NaN</td>\n",
              "      <td>NaN</td>\n",
              "      <td>NaN</td>\n",
              "      <td>NaN</td>\n",
              "      <td>NaN</td>\n",
              "      <td>NaN</td>\n",
              "      <td>NaN</td>\n",
              "      <td>NaN</td>\n",
              "    </tr>\n",
              "  </tbody>\n",
              "</table>\n",
              "<p>538 rows × 52 columns</p>\n",
              "</div>\n",
              "      <button class=\"colab-df-convert\" onclick=\"convertToInteractive('df-8a94345a-7b3c-4fc8-8995-bd055704e7ea')\"\n",
              "              title=\"Convert this dataframe to an interactive table.\"\n",
              "              style=\"display:none;\">\n",
              "        \n",
              "  <svg xmlns=\"http://www.w3.org/2000/svg\" height=\"24px\"viewBox=\"0 0 24 24\"\n",
              "       width=\"24px\">\n",
              "    <path d=\"M0 0h24v24H0V0z\" fill=\"none\"/>\n",
              "    <path d=\"M18.56 5.44l.94 2.06.94-2.06 2.06-.94-2.06-.94-.94-2.06-.94 2.06-2.06.94zm-11 1L8.5 8.5l.94-2.06 2.06-.94-2.06-.94L8.5 2.5l-.94 2.06-2.06.94zm10 10l.94 2.06.94-2.06 2.06-.94-2.06-.94-.94-2.06-.94 2.06-2.06.94z\"/><path d=\"M17.41 7.96l-1.37-1.37c-.4-.4-.92-.59-1.43-.59-.52 0-1.04.2-1.43.59L10.3 9.45l-7.72 7.72c-.78.78-.78 2.05 0 2.83L4 21.41c.39.39.9.59 1.41.59.51 0 1.02-.2 1.41-.59l7.78-7.78 2.81-2.81c.8-.78.8-2.07 0-2.86zM5.41 20L4 18.59l7.72-7.72 1.47 1.35L5.41 20z\"/>\n",
              "  </svg>\n",
              "      </button>\n",
              "      \n",
              "  <style>\n",
              "    .colab-df-container {\n",
              "      display:flex;\n",
              "      flex-wrap:wrap;\n",
              "      gap: 12px;\n",
              "    }\n",
              "\n",
              "    .colab-df-convert {\n",
              "      background-color: #E8F0FE;\n",
              "      border: none;\n",
              "      border-radius: 50%;\n",
              "      cursor: pointer;\n",
              "      display: none;\n",
              "      fill: #1967D2;\n",
              "      height: 32px;\n",
              "      padding: 0 0 0 0;\n",
              "      width: 32px;\n",
              "    }\n",
              "\n",
              "    .colab-df-convert:hover {\n",
              "      background-color: #E2EBFA;\n",
              "      box-shadow: 0px 1px 2px rgba(60, 64, 67, 0.3), 0px 1px 3px 1px rgba(60, 64, 67, 0.15);\n",
              "      fill: #174EA6;\n",
              "    }\n",
              "\n",
              "    [theme=dark] .colab-df-convert {\n",
              "      background-color: #3B4455;\n",
              "      fill: #D2E3FC;\n",
              "    }\n",
              "\n",
              "    [theme=dark] .colab-df-convert:hover {\n",
              "      background-color: #434B5C;\n",
              "      box-shadow: 0px 1px 3px 1px rgba(0, 0, 0, 0.15);\n",
              "      filter: drop-shadow(0px 1px 2px rgba(0, 0, 0, 0.3));\n",
              "      fill: #FFFFFF;\n",
              "    }\n",
              "  </style>\n",
              "\n",
              "      <script>\n",
              "        const buttonEl =\n",
              "          document.querySelector('#df-8a94345a-7b3c-4fc8-8995-bd055704e7ea button.colab-df-convert');\n",
              "        buttonEl.style.display =\n",
              "          google.colab.kernel.accessAllowed ? 'block' : 'none';\n",
              "\n",
              "        async function convertToInteractive(key) {\n",
              "          const element = document.querySelector('#df-8a94345a-7b3c-4fc8-8995-bd055704e7ea');\n",
              "          const dataTable =\n",
              "            await google.colab.kernel.invokeFunction('convertToInteractive',\n",
              "                                                     [key], {});\n",
              "          if (!dataTable) return;\n",
              "\n",
              "          const docLinkHtml = 'Like what you see? Visit the ' +\n",
              "            '<a target=\"_blank\" href=https://colab.research.google.com/notebooks/data_table.ipynb>data table notebook</a>'\n",
              "            + ' to learn more about interactive tables.';\n",
              "          element.innerHTML = '';\n",
              "          dataTable['output_type'] = 'display_data';\n",
              "          await google.colab.output.renderOutput(dataTable, element);\n",
              "          const docLink = document.createElement('div');\n",
              "          docLink.innerHTML = docLinkHtml;\n",
              "          element.appendChild(docLink);\n",
              "        }\n",
              "      </script>\n",
              "    </div>\n",
              "  </div>\n",
              "  "
            ]
          },
          "metadata": {},
          "execution_count": 77
        }
      ]
    },
    {
      "cell_type": "code",
      "source": [
        "df.drop_duplicates(inplace=True)"
      ],
      "metadata": {
        "id": "9PbjlmmhiiTi"
      },
      "execution_count": 78,
      "outputs": []
    },
    {
      "cell_type": "code",
      "source": [
        "df.duplicated().sum()"
      ],
      "metadata": {
        "colab": {
          "base_uri": "https://localhost:8080/"
        },
        "id": "tqvlDVvTjIdM",
        "outputId": "4f841cde-a6df-4b8d-82bc-c95d6fd96270"
      },
      "execution_count": 79,
      "outputs": [
        {
          "output_type": "execute_result",
          "data": {
            "text/plain": [
              "0"
            ]
          },
          "metadata": {},
          "execution_count": 79
        }
      ]
    },
    {
      "cell_type": "code",
      "source": [
        "df.info()"
      ],
      "metadata": {
        "colab": {
          "base_uri": "https://localhost:8080/"
        },
        "id": "Zc-0aEDUjEKS",
        "outputId": "2174ce72-4e6e-479b-9cb0-4e6bbb7564ab"
      },
      "execution_count": 80,
      "outputs": [
        {
          "output_type": "stream",
          "name": "stdout",
          "text": [
            "<class 'pandas.core.frame.DataFrame'>\n",
            "Int64Index: 2891 entries, 0 to 2890\n",
            "Data columns (total 52 columns):\n",
            " #   Column                                                  Non-Null Count  Dtype  \n",
            "---  ------                                                  --------------  -----  \n",
            " 0   Data Effective Date                                     2890 non-null   object \n",
            " 1   Job Category                                            2890 non-null   object \n",
            " 2   Job Level                                               2890 non-null   float64\n",
            " 3   Job Function                                            2890 non-null   object \n",
            " 4   Job Code                                                2890 non-null   object \n",
            " 5   Job Title                                               2890 non-null   object \n",
            " 6   Company/Unit Revenue (USD) : Average                    2890 non-null   float64\n",
            " 7   Company/Unit Revenue (USD) : 50th Percentile            2890 non-null   float64\n",
            " 8   Company/Unit Revenue (USD) : Co Count                   2890 non-null   float64\n",
            " 9   Annual Base Salary - Average                            2890 non-null   float64\n",
            " 10  Annual Base Salary - Emp Count                          2890 non-null   float64\n",
            " 11  Annual Base Salary - Co Count                           2890 non-null   float64\n",
            " 12  Percent Emp Receiving Any Allow - Average               2890 non-null   float64\n",
            " 13  Percent Emp Receiving Any Allow - Emp Count             2890 non-null   float64\n",
            " 14  Percent Emp Receiving Any Allow - Co Count              2890 non-null   float64\n",
            " 15  Total Allow Amt -  Average                              2890 non-null   float64\n",
            " 16  Total Allow Amt -  50th percentile                      2890 non-null   float64\n",
            " 17  Total Allow Amt -  Emp Count                            2890 non-null   float64\n",
            " 18  Total Allow Amt -  Co Count                             2890 non-null   float64\n",
            " 19  Fixed Comp (Base+Total Allowance) - Average             2890 non-null   float64\n",
            " 20  Percent Emp Elig for Incent - Average                   2890 non-null   float64\n",
            " 21  Percent Emp Elig for Incent - Emp Count                 2890 non-null   float64\n",
            " 22  Percent Emp Elig for Incent - Co Count                  2890 non-null   float64\n",
            " 23  Target Incent - % Salary - Average                      2890 non-null   float64\n",
            " 24  Base/Target Incentive Mix : Average                     2890 non-null   object \n",
            " 25  Base/Target Incentive Mix : Emp Count                   2890 non-null   float64\n",
            " 26  Base/Target Incentive Mix : Co Count                    2890 non-null   float64\n",
            " 27  Percent Emp Recd New-Hire Bonus - Average               2890 non-null   float64\n",
            " 28  Percent Emp Recd New-Hire Bonus - Emp Count             2890 non-null   float64\n",
            " 29  Percent Emp Recd New-Hire Bonus - Co Count              2890 non-null   float64\n",
            " 30  New-Hire Bonus Amt - Average                            2890 non-null   float64\n",
            " 31  New-Hire Bonus Amt - 50th percentile                    2890 non-null   float64\n",
            " 32  New-Hire Bonus Amt - Emp Count                          2890 non-null   float64\n",
            " 33  New-Hire Bonus Amt - Co Count                           2890 non-null   float64\n",
            " 34  Base Salary + Target Incent - Average                   2890 non-null   float64\n",
            " 35  Base Salary + Target Incent - 50th percentile           2890 non-null   float64\n",
            " 36  Base Salary + Target Incent - Emp Count                 2890 non-null   float64\n",
            " 37  Base Salary + Target Incent - Co Count                  2890 non-null   float64\n",
            " 38  Total Pay - Average                                     2890 non-null   float64\n",
            " 39  Total Pay - 50th percentile                             2890 non-null   float64\n",
            " 40  Total Pay - Emp Count                                   2890 non-null   float64\n",
            " 41  Total Pay - Co Count                                    2890 non-null   float64\n",
            " 42  Total Pay - Incl Car - Emp Count                        2890 non-null   float64\n",
            " 43  Total Pay - Incl Car - Co Count                         2890 non-null   float64\n",
            " 44  New-Hire - Restricted/Performance - Average             2890 non-null   float64\n",
            " 45  New-Hire - Restricted/Performance - 50th percentile     2890 non-null   float64\n",
            " 46  New-Hire - Restricted/Performance -  Emp Count          2890 non-null   float64\n",
            " 47  New-Hire - Restricted/Performance - Co Count            2890 non-null   float64\n",
            " 48  Ongoing Restricted/Performance Grants- Average          2890 non-null   float64\n",
            " 49  Ongoing Restricted/Performance Grants- 50th Percentile  2890 non-null   float64\n",
            " 50  Ongoing Restricted/Performance Grants- Emp Count        2890 non-null   float64\n",
            " 51  Ongoing Restricted/Performance Grants- Co Count         2890 non-null   float64\n",
            "dtypes: float64(46), object(6)\n",
            "memory usage: 1.2+ MB\n"
          ]
        }
      ]
    },
    {
      "cell_type": "code",
      "source": [
        "df.dropna(inplace=True)"
      ],
      "metadata": {
        "id": "_yf5geTSjQX4"
      },
      "execution_count": 81,
      "outputs": []
    },
    {
      "cell_type": "markdown",
      "source": [
        "We are working with about 84% of our original dataset"
      ],
      "metadata": {
        "id": "L3y_diLMlawp"
      }
    },
    {
      "cell_type": "code",
      "source": [
        "df.shape[0]/df_original.shape[0]"
      ],
      "metadata": {
        "colab": {
          "base_uri": "https://localhost:8080/"
        },
        "id": "B2tlFd5Ejbdd",
        "outputId": "69d56b0f-6b75-4be8-e1e2-809cd4df5ebe"
      },
      "execution_count": 82,
      "outputs": [
        {
          "output_type": "execute_result",
          "data": {
            "text/plain": [
              "0.8428113152522602"
            ]
          },
          "metadata": {},
          "execution_count": 82
        }
      ]
    },
    {
      "cell_type": "markdown",
      "source": [
        "### Fixing Inconsistencies 🪛"
      ],
      "metadata": {
        "id": "Q0JcQ9olmbb0"
      }
    },
    {
      "cell_type": "code",
      "source": [
        "# Inspect all the categorical cols for data entry inconsistencies\n",
        "for col in df.select_dtypes(include='object').columns:\n",
        "  display(df[col].value_counts())\n",
        "  print('\\n')"
      ],
      "metadata": {
        "colab": {
          "base_uri": "https://localhost:8080/",
          "height": 1000
        },
        "id": "2ay3LM-4ly7S",
        "outputId": "f2d80052-0b30-4a98-9ba6-8a01d4dce382"
      },
      "execution_count": 83,
      "outputs": [
        {
          "output_type": "display_data",
          "data": {
            "text/plain": [
              "10/15/2015    2890\n",
              "Name: Data Effective Date, dtype: int64"
            ]
          },
          "metadata": {}
        },
        {
          "output_type": "stream",
          "name": "stdout",
          "text": [
            "\n",
            "\n"
          ]
        },
        {
          "output_type": "display_data",
          "data": {
            "text/plain": [
              "P    1273\n",
              "M    1042\n",
              "S     397\n",
              "E     178\n",
              "Name: Job Category, dtype: int64"
            ]
          },
          "metadata": {}
        },
        {
          "output_type": "stream",
          "name": "stdout",
          "text": [
            "\n",
            "\n"
          ]
        },
        {
          "output_type": "display_data",
          "data": {
            "text/plain": [
              "PD    599\n",
              "FA    453\n",
              "OP    444\n",
              "MK    331\n",
              "IT    262\n",
              "SS    212\n",
              "PS    159\n",
              "LS    157\n",
              "HR    153\n",
              "MF     65\n",
              "GM     43\n",
              "AE     12\n",
              "Name: Job Function, dtype: int64"
            ]
          },
          "metadata": {}
        },
        {
          "output_type": "stream",
          "name": "stdout",
          "text": [
            "\n",
            "\n"
          ]
        },
        {
          "output_type": "display_data",
          "data": {
            "text/plain": [
              "10.0      1\n",
              "6512.0    1\n",
              "6514.0    1\n",
              "6521.0    1\n",
              "6522.0    1\n",
              "         ..\n",
              "3664.0    1\n",
              "3665.0    1\n",
              "3672.0    1\n",
              "3673.0    1\n",
              "RS0054    1\n",
              "Name: Job Code, Length: 2890, dtype: int64"
            ]
          },
          "metadata": {}
        },
        {
          "output_type": "stream",
          "name": "stdout",
          "text": [
            "\n",
            "\n"
          ]
        },
        {
          "output_type": "display_data",
          "data": {
            "text/plain": [
              "CEO - Corporate - Global                            1\n",
              "Web Site Administrator  2                           1\n",
              "Web Site Administrator  4                           1\n",
              "Web Technologist  1                                 1\n",
              "Web Technologist  2                                 1\n",
              "                                                   ..\n",
              "Global Mobility Mgmt  4                             1\n",
              "Global Mobility Mgmt  5                             1\n",
              "Employee Communications Mgmt  2                     1\n",
              "Employee Communications Mgmt  3                     1\n",
              "Support - BPO/Non-BPO Customer Support Roll-Up 4    1\n",
              "Name: Job Title, Length: 2890, dtype: int64"
            ]
          },
          "metadata": {}
        },
        {
          "output_type": "stream",
          "name": "stdout",
          "text": [
            "\n",
            "\n"
          ]
        },
        {
          "output_type": "display_data",
          "data": {
            "text/plain": [
              "0.0            34\n",
              "91.94/8.06      9\n",
              "94.51/5.49      9\n",
              "90.34/9.66      8\n",
              "92.05/7.95      8\n",
              "               ..\n",
              "78.31/21.69     1\n",
              "71.72/28.28     1\n",
              "77.08/22.92     1\n",
              "77.7/22.3       1\n",
              "93.55/6.45      1\n",
              "Name: Base/Target Incentive Mix : Average, Length: 1485, dtype: int64"
            ]
          },
          "metadata": {}
        },
        {
          "output_type": "stream",
          "name": "stdout",
          "text": [
            "\n",
            "\n"
          ]
        }
      ]
    },
    {
      "cell_type": "markdown",
      "source": [
        "Convert Base% to a float datatype"
      ],
      "metadata": {
        "id": "-AVDb8K6X0O3"
      }
    },
    {
      "cell_type": "code",
      "source": [
        "# Split the Base/Target Incentive Mix \n",
        "# The Base + Target = 100% So we'll split this column and keep only the Base %\n",
        "df = df.rename(columns={'Base/Target Incentive Mix : Average': 'Base%'})"
      ],
      "metadata": {
        "id": "M4pxkp3Pol6v"
      },
      "execution_count": 84,
      "outputs": []
    },
    {
      "cell_type": "code",
      "source": [
        "df['Base%'] = df['Base%'].str.slice(stop=2)"
      ],
      "metadata": {
        "id": "mJRO48wssxVq"
      },
      "execution_count": 85,
      "outputs": []
    },
    {
      "cell_type": "code",
      "source": [
        "df['Base%'] = df['Base%'].astype('float')"
      ],
      "metadata": {
        "id": "ScnXKCAAWjJ2"
      },
      "execution_count": 87,
      "outputs": []
    },
    {
      "cell_type": "code",
      "source": [
        "#df['Base%'].replace({'90/1':'90'}, inplace=True)"
      ],
      "metadata": {
        "id": "gcPwayLWWy1S"
      },
      "execution_count": null,
      "outputs": []
    },
    {
      "cell_type": "code",
      "source": [
        "#df['Base%'].replace({'66/3':'66'}, inplace=True)"
      ],
      "metadata": {
        "id": "9Ej-sC6eXBis"
      },
      "execution_count": null,
      "outputs": []
    },
    {
      "cell_type": "code",
      "source": [
        "df['Base%'].value_counts()"
      ],
      "metadata": {
        "colab": {
          "base_uri": "https://localhost:8080/"
        },
        "id": "RoX82pjHWKRq",
        "outputId": "98d2994e-fd3f-4938-a462-b31fd84d5d4e"
      },
      "execution_count": 88,
      "outputs": [
        {
          "output_type": "execute_result",
          "data": {
            "text/plain": [
              "93.0    265\n",
              "92.0    262\n",
              "94.0    255\n",
              "91.0    252\n",
              "95.0    209\n",
              "90.0    192\n",
              "88.0    187\n",
              "89.0    184\n",
              "86.0    124\n",
              "87.0    117\n",
              "82.0     97\n",
              "85.0     95\n",
              "83.0     82\n",
              "81.0     69\n",
              "78.0     59\n",
              "84.0     53\n",
              "79.0     47\n",
              "96.0     43\n",
              "80.0     39\n",
              "77.0     32\n",
              "73.0     23\n",
              "75.0     18\n",
              "72.0     16\n",
              "70.0     15\n",
              "71.0     14\n",
              "76.0     13\n",
              "67.0     12\n",
              "69.0     12\n",
              "74.0     11\n",
              "64.0      8\n",
              "66.0      8\n",
              "65.0      8\n",
              "68.0      7\n",
              "62.0      6\n",
              "59.0      5\n",
              "55.0      3\n",
              "63.0      3\n",
              "61.0      2\n",
              "58.0      2\n",
              "60.0      2\n",
              "54.0      1\n",
              "53.0      1\n",
              "97.0      1\n",
              "57.0      1\n",
              "52.0      1\n",
              "Name: Base%, dtype: int64"
            ]
          },
          "metadata": {},
          "execution_count": 88
        }
      ]
    },
    {
      "cell_type": "markdown",
      "source": [
        "### Dropping Unnecessary Columns  ✏"
      ],
      "metadata": {
        "id": "Mzsf_yaWJG03"
      }
    },
    {
      "cell_type": "markdown",
      "source": [
        "Job Code = All unique values wont help the algo "
      ],
      "metadata": {
        "id": "e2yxQR11-fem"
      }
    },
    {
      "cell_type": "code",
      "source": [
        "df.drop(columns = ['Job Code'], inplace = True)"
      ],
      "metadata": {
        "id": "UTIPLPTY-RPX"
      },
      "execution_count": 90,
      "outputs": []
    },
    {
      "cell_type": "markdown",
      "source": [
        "Dropping all the 50 th percentile columns as it is redundant. \n",
        "  - We will use the Averages & can calculate max,min, 50th percentile as needed"
      ],
      "metadata": {
        "id": "p79jWZgu03NN"
      }
    },
    {
      "cell_type": "code",
      "source": [
        "df.drop(columns= ['Ongoing Restricted/Performance Grants- 50th Percentile','New-Hire - Restricted/Performance - 50th percentile','Total Pay - 50th percentile','Base Salary + Target Incent - 50th percentile','New-Hire Bonus Amt - 50th percentile','Company/Unit Revenue (USD) : 50th Percentile'], inplace = True)"
      ],
      "metadata": {
        "id": "UJRxogWCzbFT"
      },
      "execution_count": 91,
      "outputs": []
    },
    {
      "cell_type": "code",
      "source": [
        "df.drop(columns = ['Total Allow Amt -  50th percentile'], inplace = True)"
      ],
      "metadata": {
        "id": "G034Vy-K0bcL"
      },
      "execution_count": 92,
      "outputs": []
    },
    {
      "cell_type": "markdown",
      "source": [
        "Drop the Date Effective column which was only one value - 10/15/15"
      ],
      "metadata": {
        "id": "3I8HgAywX_D6"
      }
    },
    {
      "cell_type": "code",
      "source": [
        "df.drop('Data Effective Date', axis=1, inplace=True)"
      ],
      "metadata": {
        "id": "o-23ckMQneuV"
      },
      "execution_count": 93,
      "outputs": []
    },
    {
      "cell_type": "markdown",
      "source": [
        "### Cleaning Up Columns"
      ],
      "metadata": {
        "id": "NY6cRDd6Hcic"
      }
    },
    {
      "cell_type": "markdown",
      "source": [
        "Replacing values based on the Data Definations"
      ],
      "metadata": {
        "id": "X8X_TmVsAJTk"
      }
    },
    {
      "cell_type": "code",
      "source": [
        "df['Job Category'].replace({'P': 'Professional', 'E': 'Executive', 'S': 'Support', 'M': 'Management'}, inplace=True)"
      ],
      "metadata": {
        "id": "BuStqrpt_lDE"
      },
      "execution_count": 94,
      "outputs": []
    },
    {
      "cell_type": "code",
      "source": [
        "df['Job Function'].replace({'PD' : 'Product Design',\n",
        "                            'FA' : 'Finance Accounting Legal',\n",
        "                            'OP' : 'Operations',\n",
        "                            'MK' : 'Media & Marketing',\n",
        "                            'IT' : 'Technology',\n",
        "                            'SS' : 'Service & Support',\n",
        "                            'PS' : 'Professional Services',\n",
        "                            'LS' : 'Life Sciences',\n",
        "                            'HR' : 'Human Resources',\n",
        "                            'MF' : 'Manufacturing',\n",
        "                            'GM' : 'General Mgmt',\n",
        "                            'AE' : 'Aeronautical Engineering'}, inplace = True)"
      ],
      "metadata": {
        "id": "AF5qXqOYBnFD"
      },
      "execution_count": 95,
      "outputs": []
    },
    {
      "cell_type": "code",
      "source": [
        "df.columns = ['Job Category' , 'Job Level','Job Function','Job Title','Company Revenue - Avg',\n",
        "'Company Revenue - Co_Count',\n",
        "'Annual Base - Avg',\n",
        "'Annual Base - Emp_Count',\n",
        "'Annual Base - Co_Count',\n",
        "'%Emp_Allow_eligible - Avg',\n",
        "'%Emp_Allow - Emp_Count',\n",
        "'%Emp_Allow - Co Count',\n",
        "'Total_Allow - Avg',\n",
        "'Total_Allow - Emp_Count',\n",
        "'Total_Allow - Co_Count',\n",
        "'Fixed Comp - Avg',\n",
        "'%Emp_Incent_elig - Avg',\n",
        "'%Emp_Incent_elig - Emp_Count',\n",
        "'%Emp_Incent_elig - Co_Count',\n",
        "'Incent% - Avg',\n",
        "'Base% - Avg',\n",
        "'Base% - Emp_Count',\n",
        "'Base% - Co_Count',\n",
        "'%Emp Recd New-Hire Bonus - Avg',\n",
        "'%Emp Recd New-Hire Bonus - Emp_Count',\n",
        "'%Emp Recd New-Hire Bonus - Co_Count',\n",
        "'New-Hire Bonus Amt - Avg',\n",
        "'New-Hire Bonus Amt - Emp Count',\n",
        "'New-Hire Bonus Amt - Co_Count',\n",
        "'Base Salary + Target Incent - Avg',\n",
        "'Base Salary + Target Incent - Emp_Count',\n",
        "'Base Salary + Target Incent - Co_Count',\n",
        "'Total Pay - Avg',\n",
        "'Total Pay - Emp_Count',\n",
        "'Total Pay - Co_Count',\n",
        "'Total Pay - Incl Car - Emp_Count',\n",
        "'Total Pay - Incl Car - Co_Count',\n",
        "'New-Hire - Performance - Avg',\n",
        "'New-Hire - Performance -  Emp_Count',\n",
        "'New-Hire - Performance - Co_Count',\n",
        "'Ongoing Performance Grants- Avg',\n",
        "'Ongoing Performance Grants- Emp_Count',\n",
        "'Ongoing Performance Grants- Co_Count']"
      ],
      "metadata": {
        "id": "htrtzfdFwNsQ"
      },
      "execution_count": 97,
      "outputs": []
    },
    {
      "cell_type": "code",
      "source": [
        "for col in df.columns:\n",
        "  print(col)"
      ],
      "metadata": {
        "colab": {
          "base_uri": "https://localhost:8080/"
        },
        "id": "atrpIJhhwOG3",
        "outputId": "88d67206-ca58-4d4c-f7f5-71964bd7fc93"
      },
      "execution_count": 98,
      "outputs": [
        {
          "output_type": "stream",
          "name": "stdout",
          "text": [
            "Job Category\n",
            "Job Level\n",
            "Job Function\n",
            "Job Title\n",
            "Company Revenue - Avg\n",
            "Company Revenue - Co_Count\n",
            "Annual Base - Avg\n",
            "Annual Base - Emp_Count\n",
            "Annual Base - Co_Count\n",
            "%Emp_Allow_eligible - Avg\n",
            "%Emp_Allow - Emp_Count\n",
            "%Emp_Allow - Co Count\n",
            "Total_Allow - Avg\n",
            "Total_Allow - Emp_Count\n",
            "Total_Allow - Co_Count\n",
            "Fixed Comp - Avg\n",
            "%Emp_Incent_elig - Avg\n",
            "%Emp_Incent_elig - Emp_Count\n",
            "%Emp_Incent_elig - Co_Count\n",
            "Incent% - Avg\n",
            "Base% - Avg\n",
            "Base% - Emp_Count\n",
            "Base% - Co_Count\n",
            "%Emp Recd New-Hire Bonus - Avg\n",
            "%Emp Recd New-Hire Bonus - Emp_Count\n",
            "%Emp Recd New-Hire Bonus - Co_Count\n",
            "New-Hire Bonus Amt - Avg\n",
            "New-Hire Bonus Amt - Emp Count\n",
            "New-Hire Bonus Amt - Co_Count\n",
            "Base Salary + Target Incent - Avg\n",
            "Base Salary + Target Incent - Emp_Count\n",
            "Base Salary + Target Incent - Co_Count\n",
            "Total Pay - Avg\n",
            "Total Pay - Emp_Count\n",
            "Total Pay - Co_Count\n",
            "Total Pay - Incl Car - Emp_Count\n",
            "Total Pay - Incl Car - Co_Count\n",
            "New-Hire - Performance - Avg\n",
            "New-Hire - Performance -  Emp_Count\n",
            "New-Hire - Performance - Co_Count\n",
            "Ongoing Performance Grants- Avg\n",
            "Ongoing Performance Grants- Emp_Count\n",
            "Ongoing Performance Grants- Co_Count\n"
          ]
        }
      ]
    },
    {
      "cell_type": "markdown",
      "source": [
        "## Exploratory Data Analysis 📊"
      ],
      "metadata": {
        "id": "S3wfzCHHschE"
      }
    },
    {
      "cell_type": "markdown",
      "source": [
        "Univariate Plots"
      ],
      "metadata": {
        "id": "eF0LnNGtLVdh"
      }
    },
    {
      "cell_type": "code",
      "source": [
        "sns.histplot(x='Job Category',\n",
        "             data = df,\n",
        "             kde = False)\n",
        "plt.title(' Job Category Analysis')"
      ],
      "metadata": {
        "colab": {
          "base_uri": "https://localhost:8080/",
          "height": 312
        },
        "id": "ouSz-xgtnaz3",
        "outputId": "8b35e417-aacd-45e0-9552-7771ab6760a3"
      },
      "execution_count": 101,
      "outputs": [
        {
          "output_type": "execute_result",
          "data": {
            "text/plain": [
              "Text(0.5, 1.0, ' Job Category Analysis')"
            ]
          },
          "metadata": {},
          "execution_count": 101
        },
        {
          "output_type": "display_data",
          "data": {
            "text/plain": [
              "<Figure size 432x288 with 1 Axes>"
            ],
            "image/png": "[encoded data removed]"
          },
          "metadata": {
            "needs_background": "light"
          }
        }
      ]
    },
    {
      "cell_type": "code",
      "source": [
        "#p_category = df['Job Category'] == 'Professional'\n",
        "\n",
        "chart = sns.displot(data= df,\n",
        "             col = 'Job Category',\n",
        "             col_wrap = 4,\n",
        "             x = 'Job Function')\n",
        "chart.set_xticklabels(rotation=90)\n"
      ],
      "metadata": {
        "colab": {
          "base_uri": "https://localhost:8080/",
          "height": 424
        },
        "id": "xsEl9ikMLHb3",
        "outputId": "904da911-2830-4219-9a1a-fcbb5c9e19cf"
      },
      "execution_count": 116,
      "outputs": [
        {
          "output_type": "execute_result",
          "data": {
            "text/plain": [
              "<seaborn.axisgrid.FacetGrid at 0x7ff87adb8b10>"
            ]
          },
          "metadata": {},
          "execution_count": 116
        },
        {
          "output_type": "display_data",
          "data": {
            "text/plain": [
              "<Figure size 1440x360 with 4 Axes>"
            ],
            "image/png": "[encoded data removed]"
          },
          "metadata": {
            "needs_background": "light"
          }
        }
      ]
    }
  ]
}